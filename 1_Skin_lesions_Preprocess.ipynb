{
 "cells": [
  {
   "cell_type": "markdown",
   "id": "ac699451-71fd-412b-9599-b720dd1639d0",
   "metadata": {},
   "source": [
    "# Prepare the dataframe to download images into dataset folders"
   ]
  },
  {
   "cell_type": "markdown",
   "id": "18b60a7e-4c84-4215-a0a2-0dd3ed66899a",
   "metadata": {},
   "source": [
    "## This notebook contains the code to convert 'HAM10000_metadata.csv' and 'metadata_additional.csv' into one dataframe which contains all imformation to prepare the dataset for modelling."
   ]
  },
  {
   "cell_type": "code",
   "execution_count": null,
   "id": "ebbdc001-b0f4-4bac-83c0-41580cb6c7f5",
   "metadata": {},
   "outputs": [],
   "source": [
    "#Import dependancies\n",
    "import pandas as pd\n",
    "import numpy as np\n",
    "import tensorflow as tf\n",
    "import keras\n",
    "from keras.models import Sequential\n",
    "from keras.layers import Dropout, Flatten, Dense, Conv2D, MaxPooling2D, BatchNormalization\n",
    "from tensorflow.keras.optimizers import Adam"
   ]
  },
  {
   "cell_type": "code",
   "execution_count": 3,
   "id": "8473e049-537e-4141-883f-c7cdae0d1cc1",
   "metadata": {},
   "outputs": [],
   "source": [
    "#Display maximum rows of the dataframe - optional. \n",
    "pd.set_option('display.max_rows', 150)"
   ]
  },
  {
   "cell_type": "markdown",
   "id": "8d8bbf44-1694-4fce-bcca-d184f7ed05d8",
   "metadata": {},
   "source": [
    "### Prepare main dataset"
   ]
  },
  {
   "cell_type": "code",
   "execution_count": 5,
   "id": "cf03644e-ce42-400d-a1b1-710343d74b27",
   "metadata": {
    "tags": []
   },
   "outputs": [
    {
     "data": {
      "text/html": [
       "<div>\n",
       "<style scoped>\n",
       "    .dataframe tbody tr th:only-of-type {\n",
       "        vertical-align: middle;\n",
       "    }\n",
       "\n",
       "    .dataframe tbody tr th {\n",
       "        vertical-align: top;\n",
       "    }\n",
       "\n",
       "    .dataframe thead th {\n",
       "        text-align: right;\n",
       "    }\n",
       "</style>\n",
       "<table border=\"1\" class=\"dataframe\">\n",
       "  <thead>\n",
       "    <tr style=\"text-align: right;\">\n",
       "      <th></th>\n",
       "      <th>lesion_id</th>\n",
       "      <th>image_id</th>\n",
       "      <th>dx</th>\n",
       "      <th>dx_type</th>\n",
       "      <th>age</th>\n",
       "      <th>sex</th>\n",
       "      <th>localization</th>\n",
       "    </tr>\n",
       "  </thead>\n",
       "  <tbody>\n",
       "    <tr>\n",
       "      <th>4349</th>\n",
       "      <td>HAM_0000550</td>\n",
       "      <td>ISIC_0024306</td>\n",
       "      <td>nv</td>\n",
       "      <td>follow_up</td>\n",
       "      <td>45.0</td>\n",
       "      <td>male</td>\n",
       "      <td>trunk</td>\n",
       "    </tr>\n",
       "    <tr>\n",
       "      <th>4263</th>\n",
       "      <td>HAM_0003577</td>\n",
       "      <td>ISIC_0024307</td>\n",
       "      <td>nv</td>\n",
       "      <td>follow_up</td>\n",
       "      <td>50.0</td>\n",
       "      <td>male</td>\n",
       "      <td>lower extremity</td>\n",
       "    </tr>\n",
       "    <tr>\n",
       "      <th>4217</th>\n",
       "      <td>HAM_0001477</td>\n",
       "      <td>ISIC_0024308</td>\n",
       "      <td>nv</td>\n",
       "      <td>follow_up</td>\n",
       "      <td>55.0</td>\n",
       "      <td>female</td>\n",
       "      <td>trunk</td>\n",
       "    </tr>\n",
       "    <tr>\n",
       "      <th>3587</th>\n",
       "      <td>HAM_0000484</td>\n",
       "      <td>ISIC_0024309</td>\n",
       "      <td>nv</td>\n",
       "      <td>follow_up</td>\n",
       "      <td>40.0</td>\n",
       "      <td>male</td>\n",
       "      <td>trunk</td>\n",
       "    </tr>\n",
       "    <tr>\n",
       "      <th>1451</th>\n",
       "      <td>HAM_0003350</td>\n",
       "      <td>ISIC_0024310</td>\n",
       "      <td>mel</td>\n",
       "      <td>histo</td>\n",
       "      <td>60.0</td>\n",
       "      <td>male</td>\n",
       "      <td>chest</td>\n",
       "    </tr>\n",
       "    <tr>\n",
       "      <th>4497</th>\n",
       "      <td>HAM_0000981</td>\n",
       "      <td>ISIC_0024311</td>\n",
       "      <td>nv</td>\n",
       "      <td>follow_up</td>\n",
       "      <td>75.0</td>\n",
       "      <td>female</td>\n",
       "      <td>back</td>\n",
       "    </tr>\n",
       "    <tr>\n",
       "      <th>700</th>\n",
       "      <td>HAM_0001359</td>\n",
       "      <td>ISIC_0024312</td>\n",
       "      <td>bkl</td>\n",
       "      <td>histo</td>\n",
       "      <td>75.0</td>\n",
       "      <td>male</td>\n",
       "      <td>lower extremity</td>\n",
       "    </tr>\n",
       "    <tr>\n",
       "      <th>2130</th>\n",
       "      <td>HAM_0002869</td>\n",
       "      <td>ISIC_0024313</td>\n",
       "      <td>mel</td>\n",
       "      <td>histo</td>\n",
       "      <td>50.0</td>\n",
       "      <td>female</td>\n",
       "      <td>back</td>\n",
       "    </tr>\n",
       "    <tr>\n",
       "      <th>6803</th>\n",
       "      <td>HAM_0002198</td>\n",
       "      <td>ISIC_0024314</td>\n",
       "      <td>nv</td>\n",
       "      <td>histo</td>\n",
       "      <td>75.0</td>\n",
       "      <td>male</td>\n",
       "      <td>lower extremity</td>\n",
       "    </tr>\n",
       "    <tr>\n",
       "      <th>1327</th>\n",
       "      <td>HAM_0007538</td>\n",
       "      <td>ISIC_0024315</td>\n",
       "      <td>mel</td>\n",
       "      <td>histo</td>\n",
       "      <td>55.0</td>\n",
       "      <td>male</td>\n",
       "      <td>trunk</td>\n",
       "    </tr>\n",
       "  </tbody>\n",
       "</table>\n",
       "</div>"
      ],
      "text/plain": [
       "        lesion_id      image_id   dx    dx_type   age     sex     localization\n",
       "4349  HAM_0000550  ISIC_0024306   nv  follow_up  45.0    male            trunk\n",
       "4263  HAM_0003577  ISIC_0024307   nv  follow_up  50.0    male  lower extremity\n",
       "4217  HAM_0001477  ISIC_0024308   nv  follow_up  55.0  female            trunk\n",
       "3587  HAM_0000484  ISIC_0024309   nv  follow_up  40.0    male            trunk\n",
       "1451  HAM_0003350  ISIC_0024310  mel      histo  60.0    male            chest\n",
       "4497  HAM_0000981  ISIC_0024311   nv  follow_up  75.0  female             back\n",
       "700   HAM_0001359  ISIC_0024312  bkl      histo  75.0    male  lower extremity\n",
       "2130  HAM_0002869  ISIC_0024313  mel      histo  50.0  female             back\n",
       "6803  HAM_0002198  ISIC_0024314   nv      histo  75.0    male  lower extremity\n",
       "1327  HAM_0007538  ISIC_0024315  mel      histo  55.0    male            trunk"
      ]
     },
     "execution_count": 5,
     "metadata": {},
     "output_type": "execute_result"
    }
   ],
   "source": [
    "#Load the metadata for the main dataset\n",
    "csv_path = \"C:/Users/kravc/Final_Project/Data/Skin_classifier/HAM10000_metadata.csv\"\n",
    "skin_df = pd.read_csv(csv_path)\n",
    "skin_df.sort_values(by=\"image_id\").head(10)"
   ]
  },
  {
   "cell_type": "code",
   "execution_count": 6,
   "id": "0b4b7397-6251-429b-a306-4d61464e837d",
   "metadata": {},
   "outputs": [],
   "source": [
    "#Add column to indicate leasions which have multiple corresponding images.\n",
    "#This will help to make sure that all duplicated images go to the one set.\n",
    "\n",
    "def add_duplicate_column(df):\n",
    "    \"\"\"\n",
    "    To the existing dataframe add the column with value '0' for skin lesions that have \n",
    "    only one corresponding image, or '1' for skin lesions that have two or more corresponding images\n",
    "    \n",
    "    Input: DataFrame\n",
    "    Output: DataFrame with new column \"duplicate\"\n",
    "    \n",
    "    \"\"\"\n",
    "    duplicates=df[df.duplicated(subset=['lesion_id'], keep=False)==True]\n",
    "    duplicates_images_list=duplicates['image_id'].values.tolist()\n",
    "    duplicate_column=[]\n",
    "    for i in range(len(df['image_id'])):\n",
    "        if df['image_id'][i] in duplicates_images_list:\n",
    "            dup=1\n",
    "        else:\n",
    "            dup=0\n",
    "        duplicate_column.append(dup)\n",
    "    df['duplicate']=duplicate_column\n",
    "    return df"
   ]
  },
  {
   "cell_type": "code",
   "execution_count": 9,
   "id": "e62ddd01-7dfa-4556-af22-a70bd5566bcc",
   "metadata": {},
   "outputs": [],
   "source": [
    "#Implement the add_duplicate_column function to the initial dataframe\n",
    "skin_df=add_duplicate_column(skin_df)"
   ]
  },
  {
   "cell_type": "code",
   "execution_count": 11,
   "id": "857cf57b-5dc2-40a6-aa87-161a2cd85efb",
   "metadata": {},
   "outputs": [],
   "source": [
    "#Add column to indicate a class of lesion in a numeric form.\n",
    "\n",
    "#Classes are present in the column 'dx' and represent the following lesion variants:\n",
    "\n",
    "#    \"akiec\" : \"actinic keratosis\", very early form of skin cancer \n",
    "#    \"bcc\" : \"basal cell carcinoma\" ,  basal-cell cancer or white skin cancer\n",
    "#    \"bkl\" : \"benign keratosis-like lesions\",  non-cancerous skin tumour\n",
    "#    \"df\" : \"dermatofibroma\",  non-cancerous rounded bumps \n",
    "#    \"mel\" : \"melanoma\",  black skin cancer\n",
    "#    \"nv\" : \"melanocytic nevi\",  mole non-cancerous\n",
    "#    \"vasc\" : \"vascular lesions\",  non-cancerous skin condition\n",
    "\n",
    "\n",
    "def add_class_column(df):\n",
    "    \"\"\"\n",
    "    To the exesting dataframe add the column with numeric labels for the class.\n",
    "    \n",
    "    Input: DataFrame\n",
    "    Output: DataFrame with new column \"class\"\n",
    "    \n",
    "    \"\"\"\n",
    "    target_dict={k: v for v, k in enumerate(np.unique(df.dx))}\n",
    "    df['class'] = df['dx'].map(target_dict)\n",
    "    return df"
   ]
  },
  {
   "cell_type": "code",
   "execution_count": 12,
   "id": "23739083-611f-425e-878a-c8e57389c1b3",
   "metadata": {},
   "outputs": [],
   "source": [
    "#Implement the add_duplicate_column function to the initial dataframe\n",
    "skin_df=add_class_column(skin_df)"
   ]
  },
  {
   "cell_type": "markdown",
   "id": "439d656c-cc66-4eb2-a0c5-eb8b1ae4f0a6",
   "metadata": {},
   "source": [
    "### Prepare additional dataset"
   ]
  },
  {
   "cell_type": "code",
   "execution_count": 13,
   "id": "2cd52652-61d6-43b9-9d9e-b63cbd31edbe",
   "metadata": {},
   "outputs": [],
   "source": [
    "#Load the metadata file for the additional dataset\n",
    "add_data=pd.read_csv('C:/Users/kravc/Final_Project/Data/Skin_classifier/metadata_additional.csv')"
   ]
  },
  {
   "cell_type": "code",
   "execution_count": 15,
   "id": "3644650b-c9f8-4e17-9f7d-c65677dfcdef",
   "metadata": {},
   "outputs": [
    {
     "data": {
      "text/plain": [
       "Index(['patient_id', 'lesion_id', 'smoke', 'drink', 'background_father',\n",
       "       'background_mother', 'age', 'pesticide', 'gender',\n",
       "       'skin_cancer_history', 'cancer_history', 'has_piped_water',\n",
       "       'has_sewage_system', 'fitspatrick', 'region', 'diameter_1',\n",
       "       'diameter_2', 'diagnostic', 'itch', 'grew', 'hurt', 'changed', 'bleed',\n",
       "       'elevation', 'img_id', 'biopsed'],\n",
       "      dtype='object')"
      ]
     },
     "execution_count": 15,
     "metadata": {},
     "output_type": "execute_result"
    }
   ],
   "source": [
    "#See what columns the new data has and what should be cleaned before concatenating dataframes\n",
    "add_data.columns"
   ]
  },
  {
   "cell_type": "code",
   "execution_count": 16,
   "id": "e8c1dcf6-42ce-4106-9307-38c0ba1ce920",
   "metadata": {},
   "outputs": [],
   "source": [
    "#Clean the dataframe with additional data to prepare it for concatnating. As we need to enrich \n",
    "#the existing dataset with images of cancerous lesions we will leave only cancerous classes.\n",
    "\n",
    "def clean_additional_data(df):\n",
    "    \"\"\"\n",
    "    In the dataframe leave only images of cancerous classes, remove unwanted columns, rename the \n",
    "    column to match the initial dataframee, add 'class' column, drop all lesions with two or more\n",
    "    corresponding images, add 'duplicate' columns.\n",
    "    \n",
    "    Input: DataFrame\n",
    "    Output: DataFrame prepared to be concatenated with main dataframe ('skin_df')\n",
    "    \n",
    "    \"\"\"\n",
    "    \n",
    "    #leave only cancerous lesions as we want to enlarge them\n",
    "    df=df[(df.diagnostic=='ACK')|(df.diagnostic=='BCC')|(df.diagnostic=='MEL')]\n",
    "    #Remove unwanted columns\n",
    "    df=df.loc[:, ['lesion_id', 'age', 'gender', 'region', 'diagnostic', 'img_id']]\n",
    "    #Rename the columns to match initial dataframe\n",
    "    df.columns=['lesion_id', 'age', 'sex', 'localization', 'class', 'image_id']\n",
    "    #Add 'class' column\n",
    "    target_dict_add={'ACK': 0, 'BCC': 1, 'MEL': 4}\n",
    "    df['class'] = df['class'].map(target_dict_add)\n",
    "    #Drop duplicated lesions\n",
    "    df=df.drop_duplicates(subset=['lesion_id'], keep='first')\n",
    "    #Add 'duplicates' column and set all values to 0\n",
    "    df['duplicate']=0\n",
    "    return df"
   ]
  },
  {
   "cell_type": "code",
   "execution_count": 18,
   "id": "d26b3efa-3902-458c-acfe-226bd81b2795",
   "metadata": {},
   "outputs": [],
   "source": [
    "#Clean the dataframe for additional dataset\n",
    "add_data=clean_additional_data(add_data)"
   ]
  },
  {
   "cell_type": "markdown",
   "id": "f283bf72-685a-4087-b516-831530e544cd",
   "metadata": {},
   "source": [
    "### Create the dataframe for the whole dataset"
   ]
  },
  {
   "cell_type": "code",
   "execution_count": 19,
   "id": "806e7980-39f8-44eb-8294-ae4f289b22cb",
   "metadata": {},
   "outputs": [],
   "source": [
    "#Concatenate two dataframes into one to represent whole image set\n",
    "all_images=pd.concat([skin_df, add_data], ignore_index=True)"
   ]
  },
  {
   "cell_type": "code",
   "execution_count": 17,
   "id": "c8c4bd07-4780-42a6-9a05-424e225f7a57",
   "metadata": {},
   "outputs": [
    {
     "data": {
      "text/html": [
       "<div>\n",
       "<style scoped>\n",
       "    .dataframe tbody tr th:only-of-type {\n",
       "        vertical-align: middle;\n",
       "    }\n",
       "\n",
       "    .dataframe tbody tr th {\n",
       "        vertical-align: top;\n",
       "    }\n",
       "\n",
       "    .dataframe thead th {\n",
       "        text-align: right;\n",
       "    }\n",
       "</style>\n",
       "<table border=\"1\" class=\"dataframe\">\n",
       "  <thead>\n",
       "    <tr style=\"text-align: right;\">\n",
       "      <th></th>\n",
       "      <th>duplicate</th>\n",
       "      <th>class</th>\n",
       "      <th>lesion_id</th>\n",
       "      <th>image_id</th>\n",
       "      <th>dx</th>\n",
       "      <th>dx_type</th>\n",
       "      <th>age</th>\n",
       "      <th>sex</th>\n",
       "      <th>localization</th>\n",
       "    </tr>\n",
       "  </thead>\n",
       "  <tbody>\n",
       "    <tr>\n",
       "      <th>0</th>\n",
       "      <td>0</td>\n",
       "      <td>0</td>\n",
       "      <td>720</td>\n",
       "      <td>720</td>\n",
       "      <td>151</td>\n",
       "      <td>151</td>\n",
       "      <td>720</td>\n",
       "      <td>370</td>\n",
       "      <td>720</td>\n",
       "    </tr>\n",
       "    <tr>\n",
       "      <th>1</th>\n",
       "      <td>0</td>\n",
       "      <td>1</td>\n",
       "      <td>781</td>\n",
       "      <td>781</td>\n",
       "      <td>175</td>\n",
       "      <td>175</td>\n",
       "      <td>781</td>\n",
       "      <td>781</td>\n",
       "      <td>781</td>\n",
       "    </tr>\n",
       "    <tr>\n",
       "      <th>2</th>\n",
       "      <td>0</td>\n",
       "      <td>2</td>\n",
       "      <td>440</td>\n",
       "      <td>440</td>\n",
       "      <td>440</td>\n",
       "      <td>440</td>\n",
       "      <td>432</td>\n",
       "      <td>440</td>\n",
       "      <td>440</td>\n",
       "    </tr>\n",
       "    <tr>\n",
       "      <th>3</th>\n",
       "      <td>0</td>\n",
       "      <td>3</td>\n",
       "      <td>39</td>\n",
       "      <td>39</td>\n",
       "      <td>39</td>\n",
       "      <td>39</td>\n",
       "      <td>39</td>\n",
       "      <td>39</td>\n",
       "      <td>39</td>\n",
       "    </tr>\n",
       "    <tr>\n",
       "      <th>4</th>\n",
       "      <td>0</td>\n",
       "      <td>4</td>\n",
       "      <td>264</td>\n",
       "      <td>264</td>\n",
       "      <td>230</td>\n",
       "      <td>230</td>\n",
       "      <td>264</td>\n",
       "      <td>264</td>\n",
       "      <td>264</td>\n",
       "    </tr>\n",
       "    <tr>\n",
       "      <th>5</th>\n",
       "      <td>0</td>\n",
       "      <td>5</td>\n",
       "      <td>4415</td>\n",
       "      <td>4415</td>\n",
       "      <td>4415</td>\n",
       "      <td>4415</td>\n",
       "      <td>4376</td>\n",
       "      <td>4415</td>\n",
       "      <td>4415</td>\n",
       "    </tr>\n",
       "    <tr>\n",
       "      <th>6</th>\n",
       "      <td>0</td>\n",
       "      <td>6</td>\n",
       "      <td>64</td>\n",
       "      <td>64</td>\n",
       "      <td>64</td>\n",
       "      <td>64</td>\n",
       "      <td>64</td>\n",
       "      <td>64</td>\n",
       "      <td>64</td>\n",
       "    </tr>\n",
       "    <tr>\n",
       "      <th>7</th>\n",
       "      <td>1</td>\n",
       "      <td>0</td>\n",
       "      <td>176</td>\n",
       "      <td>176</td>\n",
       "      <td>176</td>\n",
       "      <td>176</td>\n",
       "      <td>176</td>\n",
       "      <td>176</td>\n",
       "      <td>176</td>\n",
       "    </tr>\n",
       "    <tr>\n",
       "      <th>8</th>\n",
       "      <td>1</td>\n",
       "      <td>1</td>\n",
       "      <td>339</td>\n",
       "      <td>339</td>\n",
       "      <td>339</td>\n",
       "      <td>339</td>\n",
       "      <td>339</td>\n",
       "      <td>339</td>\n",
       "      <td>339</td>\n",
       "    </tr>\n",
       "    <tr>\n",
       "      <th>9</th>\n",
       "      <td>1</td>\n",
       "      <td>2</td>\n",
       "      <td>659</td>\n",
       "      <td>659</td>\n",
       "      <td>659</td>\n",
       "      <td>659</td>\n",
       "      <td>657</td>\n",
       "      <td>659</td>\n",
       "      <td>659</td>\n",
       "    </tr>\n",
       "    <tr>\n",
       "      <th>10</th>\n",
       "      <td>1</td>\n",
       "      <td>3</td>\n",
       "      <td>76</td>\n",
       "      <td>76</td>\n",
       "      <td>76</td>\n",
       "      <td>76</td>\n",
       "      <td>76</td>\n",
       "      <td>76</td>\n",
       "      <td>76</td>\n",
       "    </tr>\n",
       "    <tr>\n",
       "      <th>11</th>\n",
       "      <td>1</td>\n",
       "      <td>4</td>\n",
       "      <td>883</td>\n",
       "      <td>883</td>\n",
       "      <td>883</td>\n",
       "      <td>883</td>\n",
       "      <td>881</td>\n",
       "      <td>883</td>\n",
       "      <td>883</td>\n",
       "    </tr>\n",
       "    <tr>\n",
       "      <th>12</th>\n",
       "      <td>1</td>\n",
       "      <td>5</td>\n",
       "      <td>2290</td>\n",
       "      <td>2290</td>\n",
       "      <td>2290</td>\n",
       "      <td>2290</td>\n",
       "      <td>2284</td>\n",
       "      <td>2290</td>\n",
       "      <td>2290</td>\n",
       "    </tr>\n",
       "    <tr>\n",
       "      <th>13</th>\n",
       "      <td>1</td>\n",
       "      <td>6</td>\n",
       "      <td>78</td>\n",
       "      <td>78</td>\n",
       "      <td>78</td>\n",
       "      <td>78</td>\n",
       "      <td>78</td>\n",
       "      <td>78</td>\n",
       "      <td>78</td>\n",
       "    </tr>\n",
       "  </tbody>\n",
       "</table>\n",
       "</div>"
      ],
      "text/plain": [
       "    duplicate  class  lesion_id  image_id    dx  dx_type   age   sex  \\\n",
       "0           0      0        720       720   151      151   720   370   \n",
       "1           0      1        781       781   175      175   781   781   \n",
       "2           0      2        440       440   440      440   432   440   \n",
       "3           0      3         39        39    39       39    39    39   \n",
       "4           0      4        264       264   230      230   264   264   \n",
       "5           0      5       4415      4415  4415     4415  4376  4415   \n",
       "6           0      6         64        64    64       64    64    64   \n",
       "7           1      0        176       176   176      176   176   176   \n",
       "8           1      1        339       339   339      339   339   339   \n",
       "9           1      2        659       659   659      659   657   659   \n",
       "10          1      3         76        76    76       76    76    76   \n",
       "11          1      4        883       883   883      883   881   883   \n",
       "12          1      5       2290      2290  2290     2290  2284  2290   \n",
       "13          1      6         78        78    78       78    78    78   \n",
       "\n",
       "    localization  \n",
       "0            720  \n",
       "1            781  \n",
       "2            440  \n",
       "3             39  \n",
       "4            264  \n",
       "5           4415  \n",
       "6             64  \n",
       "7            176  \n",
       "8            339  \n",
       "9            659  \n",
       "10            76  \n",
       "11           883  \n",
       "12          2290  \n",
       "13            78  "
      ]
     },
     "execution_count": 17,
     "metadata": {},
     "output_type": "execute_result"
    }
   ],
   "source": [
    "#Check class imbalance\n",
    "all_images.groupby(['duplicate','class'], as_index=False).count()"
   ]
  },
  {
   "cell_type": "code",
   "execution_count": 21,
   "id": "c4a89676-bd57-46df-8399-05582ac0da50",
   "metadata": {},
   "outputs": [],
   "source": [
    "#Add column to indicate whether the class represents cancerous or non-cancerous lesion\n",
    "#    \"akiec\" : cancerous\n",
    "#    \"bcc\" : cancerous\n",
    "#    \"bkl\" : non-cancerous\n",
    "#    \"df\" : non-cancerous\n",
    "#    \"mel\" : cancerous\n",
    "#    \"nv\" : non-cancerous\n",
    "#    \"vasc\" : non-cancerous\n",
    "#}\n",
    "\n",
    "def add_cancerous_column(df):\n",
    "    \"\"\"\n",
    "    To the dataframe add column with value '0' for non-cancerous class and '1' for cancerous class\n",
    "    \n",
    "    Input: DataFrame\n",
    "    Output: DataFrame with new column \"cancerous\"\n",
    "    \n",
    "    \"\"\"\n",
    "    canc_dict={0: 1, 1: 1, 2: 0, 3: 0, 4: 1, 5: 0, 6: 0}\n",
    "    df['cancerous'] = df['class'].map(canc_dict)\n",
    "    return df"
   ]
  },
  {
   "cell_type": "code",
   "execution_count": 22,
   "id": "98ae53dc-071f-4613-adfb-f827f8b9e97f",
   "metadata": {},
   "outputs": [],
   "source": [
    "#Add 'cancerous' column to the working dataframe\n",
    "all_images=add_cancerous_column(all_images)"
   ]
  },
  {
   "cell_type": "code",
   "execution_count": 23,
   "id": "91dee801-4fc0-41a7-9d90-d2b5e85bfed8",
   "metadata": {},
   "outputs": [
    {
     "data": {
      "text/html": [
       "<div>\n",
       "<style scoped>\n",
       "    .dataframe tbody tr th:only-of-type {\n",
       "        vertical-align: middle;\n",
       "    }\n",
       "\n",
       "    .dataframe tbody tr th {\n",
       "        vertical-align: top;\n",
       "    }\n",
       "\n",
       "    .dataframe thead th {\n",
       "        text-align: right;\n",
       "    }\n",
       "</style>\n",
       "<table border=\"1\" class=\"dataframe\">\n",
       "  <thead>\n",
       "    <tr style=\"text-align: right;\">\n",
       "      <th></th>\n",
       "      <th>cancerous</th>\n",
       "      <th>lesion_id</th>\n",
       "      <th>image_id</th>\n",
       "      <th>dx</th>\n",
       "      <th>dx_type</th>\n",
       "      <th>age</th>\n",
       "      <th>sex</th>\n",
       "      <th>localization</th>\n",
       "      <th>duplicate</th>\n",
       "      <th>class</th>\n",
       "    </tr>\n",
       "  </thead>\n",
       "  <tbody>\n",
       "    <tr>\n",
       "      <th>0</th>\n",
       "      <td>0</td>\n",
       "      <td>8061</td>\n",
       "      <td>8061</td>\n",
       "      <td>8061</td>\n",
       "      <td>8061</td>\n",
       "      <td>8006</td>\n",
       "      <td>8061</td>\n",
       "      <td>8061</td>\n",
       "      <td>8061</td>\n",
       "      <td>8061</td>\n",
       "    </tr>\n",
       "    <tr>\n",
       "      <th>1</th>\n",
       "      <td>1</td>\n",
       "      <td>3163</td>\n",
       "      <td>3163</td>\n",
       "      <td>1954</td>\n",
       "      <td>1954</td>\n",
       "      <td>3161</td>\n",
       "      <td>2813</td>\n",
       "      <td>3163</td>\n",
       "      <td>3163</td>\n",
       "      <td>3163</td>\n",
       "    </tr>\n",
       "  </tbody>\n",
       "</table>\n",
       "</div>"
      ],
      "text/plain": [
       "   cancerous  lesion_id  image_id    dx  dx_type   age   sex  localization  \\\n",
       "0          0       8061      8061  8061     8061  8006  8061          8061   \n",
       "1          1       3163      3163  1954     1954  3161  2813          3163   \n",
       "\n",
       "   duplicate  class  \n",
       "0       8061   8061  \n",
       "1       3163   3163  "
      ]
     },
     "execution_count": 23,
     "metadata": {},
     "output_type": "execute_result"
    }
   ],
   "source": [
    "#Check class imbalance \n",
    "all_images.groupby(['cancerous'], as_index=False).count()"
   ]
  },
  {
   "cell_type": "code",
   "execution_count": 24,
   "id": "8c3f6965-95d6-4a2b-a2de-fcede714b3ee",
   "metadata": {},
   "outputs": [],
   "source": [
    "#To balance data remove all lesions with augmented images from the largest class by cancerous\n",
    "all_images.drop(all_images[(all_images['duplicate']==1) & (all_images['cancerous']==0)].index, inplace=True)"
   ]
  },
  {
   "cell_type": "code",
   "execution_count": 25,
   "id": "c45b4b73-ce01-4734-aa8c-b2725806219a",
   "metadata": {},
   "outputs": [
    {
     "data": {
      "text/html": [
       "<div>\n",
       "<style scoped>\n",
       "    .dataframe tbody tr th:only-of-type {\n",
       "        vertical-align: middle;\n",
       "    }\n",
       "\n",
       "    .dataframe tbody tr th {\n",
       "        vertical-align: top;\n",
       "    }\n",
       "\n",
       "    .dataframe thead th {\n",
       "        text-align: right;\n",
       "    }\n",
       "</style>\n",
       "<table border=\"1\" class=\"dataframe\">\n",
       "  <thead>\n",
       "    <tr style=\"text-align: right;\">\n",
       "      <th></th>\n",
       "      <th>cancerous</th>\n",
       "      <th>lesion_id</th>\n",
       "      <th>image_id</th>\n",
       "      <th>dx</th>\n",
       "      <th>dx_type</th>\n",
       "      <th>age</th>\n",
       "      <th>sex</th>\n",
       "      <th>localization</th>\n",
       "      <th>duplicate</th>\n",
       "      <th>class</th>\n",
       "    </tr>\n",
       "  </thead>\n",
       "  <tbody>\n",
       "    <tr>\n",
       "      <th>0</th>\n",
       "      <td>0</td>\n",
       "      <td>4958</td>\n",
       "      <td>4958</td>\n",
       "      <td>4958</td>\n",
       "      <td>4958</td>\n",
       "      <td>4911</td>\n",
       "      <td>4958</td>\n",
       "      <td>4958</td>\n",
       "      <td>4958</td>\n",
       "      <td>4958</td>\n",
       "    </tr>\n",
       "    <tr>\n",
       "      <th>1</th>\n",
       "      <td>1</td>\n",
       "      <td>3163</td>\n",
       "      <td>3163</td>\n",
       "      <td>1954</td>\n",
       "      <td>1954</td>\n",
       "      <td>3161</td>\n",
       "      <td>2813</td>\n",
       "      <td>3163</td>\n",
       "      <td>3163</td>\n",
       "      <td>3163</td>\n",
       "    </tr>\n",
       "  </tbody>\n",
       "</table>\n",
       "</div>"
      ],
      "text/plain": [
       "   cancerous  lesion_id  image_id    dx  dx_type   age   sex  localization  \\\n",
       "0          0       4958      4958  4958     4958  4911  4958          4958   \n",
       "1          1       3163      3163  1954     1954  3161  2813          3163   \n",
       "\n",
       "   duplicate  class  \n",
       "0       4958   4958  \n",
       "1       3163   3163  "
      ]
     },
     "execution_count": 25,
     "metadata": {},
     "output_type": "execute_result"
    }
   ],
   "source": [
    "all_images.groupby(['cancerous'], as_index=False).count()"
   ]
  },
  {
   "cell_type": "code",
   "execution_count": 26,
   "id": "4a83912c-307f-4a24-abf4-9d8a549d01ed",
   "metadata": {},
   "outputs": [],
   "source": [
    "all_images.reset_index(drop=True, inplace=True)"
   ]
  },
  {
   "cell_type": "code",
   "execution_count": 27,
   "id": "18680a68-49bc-461e-8a23-fb01c086109f",
   "metadata": {},
   "outputs": [
    {
     "data": {
      "text/plain": [
       "True"
      ]
     },
     "execution_count": 27,
     "metadata": {},
     "output_type": "execute_result"
    }
   ],
   "source": [
    "#Check if all image_ids are unique\n",
    "all_images['image_id'].nunique()==all_images.shape[0]"
   ]
  },
  {
   "cell_type": "markdown",
   "id": "680a1521-4fab-43a0-817b-32d2c6af9e4e",
   "metadata": {},
   "source": [
    "### Divide the dataset into training, validation and test set"
   ]
  },
  {
   "cell_type": "markdown",
   "id": "295cae18-43c7-41b5-90c4-1772267623a1",
   "metadata": {},
   "source": [
    "Now let us divide each class into training (75%), validation (15%) and test (10%) set. We will create a columns which will specify the set for the image.\n",
    "First, put 75 % of every class to train set making sure that all augmented lesions are in training set."
   ]
  },
  {
   "cell_type": "code",
   "execution_count": 28,
   "id": "a8fafdfb-f504-4ed2-9cdf-bcab79be1cd0",
   "metadata": {},
   "outputs": [],
   "source": [
    "#Duplicated images that will go to train set\n",
    "classes=[0,1]\n",
    "images_to_train=[]\n",
    "for cl in classes:\n",
    "    for image in all_images[all_images['cancerous']==cl]['image_id'].tolist():\n",
    "        if (all_images[all_images['image_id']==image]['duplicate']==1).values==True:\n",
    "            images_to_train.append(image)"
   ]
  },
  {
   "cell_type": "code",
   "execution_count": 31,
   "id": "37ea4b2f-d240-4a22-a06f-a60c13e88f4a",
   "metadata": {},
   "outputs": [
    {
     "data": {
      "text/html": [
       "<div>\n",
       "<style scoped>\n",
       "    .dataframe tbody tr th:only-of-type {\n",
       "        vertical-align: middle;\n",
       "    }\n",
       "\n",
       "    .dataframe tbody tr th {\n",
       "        vertical-align: top;\n",
       "    }\n",
       "\n",
       "    .dataframe thead th {\n",
       "        text-align: right;\n",
       "    }\n",
       "</style>\n",
       "<table border=\"1\" class=\"dataframe\">\n",
       "  <thead>\n",
       "    <tr style=\"text-align: right;\">\n",
       "      <th></th>\n",
       "      <th>cancerous</th>\n",
       "      <th>lesion_id</th>\n",
       "      <th>image_id</th>\n",
       "      <th>dx</th>\n",
       "      <th>dx_type</th>\n",
       "      <th>age</th>\n",
       "      <th>sex</th>\n",
       "      <th>localization</th>\n",
       "      <th>duplicate</th>\n",
       "      <th>class</th>\n",
       "    </tr>\n",
       "  </thead>\n",
       "  <tbody>\n",
       "    <tr>\n",
       "      <th>0</th>\n",
       "      <td>0</td>\n",
       "      <td>4958</td>\n",
       "      <td>4958</td>\n",
       "      <td>4958</td>\n",
       "      <td>4958</td>\n",
       "      <td>4911</td>\n",
       "      <td>4958</td>\n",
       "      <td>4958</td>\n",
       "      <td>4958</td>\n",
       "      <td>4958</td>\n",
       "    </tr>\n",
       "    <tr>\n",
       "      <th>1</th>\n",
       "      <td>1</td>\n",
       "      <td>3163</td>\n",
       "      <td>3163</td>\n",
       "      <td>1954</td>\n",
       "      <td>1954</td>\n",
       "      <td>3161</td>\n",
       "      <td>2813</td>\n",
       "      <td>3163</td>\n",
       "      <td>3163</td>\n",
       "      <td>3163</td>\n",
       "    </tr>\n",
       "  </tbody>\n",
       "</table>\n",
       "</div>"
      ],
      "text/plain": [
       "   cancerous  lesion_id  image_id    dx  dx_type   age   sex  localization  \\\n",
       "0          0       4958      4958  4958     4958  4911  4958          4958   \n",
       "1          1       3163      3163  1954     1954  3161  2813          3163   \n",
       "\n",
       "   duplicate  class  \n",
       "0       4958   4958  \n",
       "1       3163   3163  "
      ]
     },
     "execution_count": 31,
     "metadata": {},
     "output_type": "execute_result"
    }
   ],
   "source": [
    "all_images.groupby(['cancerous'], as_index=False).count()"
   ]
  },
  {
   "cell_type": "code",
   "execution_count": 32,
   "id": "09192579-28f1-44b5-997d-8843e1769c5e",
   "metadata": {},
   "outputs": [],
   "source": [
    "#Add column to indicate to which set (train, val or test) the image should go\n",
    "all_images['set']=0"
   ]
  },
  {
   "cell_type": "code",
   "execution_count": 34,
   "id": "fc7a1b4f-211d-48da-b7df-1df2f2182618",
   "metadata": {
    "tags": []
   },
   "outputs": [
    {
     "name": "stderr",
     "output_type": "stream",
     "text": [
      "<ipython-input-34-99ea2020f9f9>:4: SettingWithCopyWarning: \n",
      "A value is trying to be set on a copy of a slice from a DataFrame\n",
      "\n",
      "See the caveats in the documentation: https://pandas.pydata.org/pandas-docs/stable/user_guide/indexing.html#returning-a-view-versus-a-copy\n",
      "  all_images['set'][i]='train'\n",
      "C:\\Users\\kravc\\anaconda3\\envs\\lhl_bootcamp\\lib\\site-packages\\pandas\\core\\indexing.py:1732: SettingWithCopyWarning: \n",
      "A value is trying to be set on a copy of a slice from a DataFrame\n",
      "\n",
      "See the caveats in the documentation: https://pandas.pydata.org/pandas-docs/stable/user_guide/indexing.html#returning-a-view-versus-a-copy\n",
      "  self._setitem_single_block(indexer, value, name)\n"
     ]
    }
   ],
   "source": [
    "#For all lesions with mulpiple images update their 'set' value in dataframe\n",
    "for i in range(len(all_images['image_id'])):\n",
    "    if (all_images['image_id'][i] in images_to_train)==True:\n",
    "        all_images['set'][i]='train'      "
   ]
  },
  {
   "cell_type": "code",
   "execution_count": 35,
   "id": "e9938590-583e-434d-8b8f-feed1113feb4",
   "metadata": {},
   "outputs": [
    {
     "data": {
      "text/html": [
       "<div>\n",
       "<style scoped>\n",
       "    .dataframe tbody tr th:only-of-type {\n",
       "        vertical-align: middle;\n",
       "    }\n",
       "\n",
       "    .dataframe tbody tr th {\n",
       "        vertical-align: top;\n",
       "    }\n",
       "\n",
       "    .dataframe thead th {\n",
       "        text-align: right;\n",
       "    }\n",
       "</style>\n",
       "<table border=\"1\" class=\"dataframe\">\n",
       "  <thead>\n",
       "    <tr style=\"text-align: right;\">\n",
       "      <th></th>\n",
       "      <th>cancerous</th>\n",
       "      <th>set</th>\n",
       "      <th>lesion_id</th>\n",
       "      <th>image_id</th>\n",
       "      <th>dx</th>\n",
       "      <th>dx_type</th>\n",
       "      <th>age</th>\n",
       "      <th>sex</th>\n",
       "      <th>localization</th>\n",
       "      <th>duplicate</th>\n",
       "      <th>class</th>\n",
       "    </tr>\n",
       "  </thead>\n",
       "  <tbody>\n",
       "    <tr>\n",
       "      <th>0</th>\n",
       "      <td>0</td>\n",
       "      <td>0</td>\n",
       "      <td>4958</td>\n",
       "      <td>4958</td>\n",
       "      <td>4958</td>\n",
       "      <td>4958</td>\n",
       "      <td>4911</td>\n",
       "      <td>4958</td>\n",
       "      <td>4958</td>\n",
       "      <td>4958</td>\n",
       "      <td>4958</td>\n",
       "    </tr>\n",
       "    <tr>\n",
       "      <th>1</th>\n",
       "      <td>1</td>\n",
       "      <td>0</td>\n",
       "      <td>1765</td>\n",
       "      <td>1765</td>\n",
       "      <td>556</td>\n",
       "      <td>556</td>\n",
       "      <td>1765</td>\n",
       "      <td>1415</td>\n",
       "      <td>1765</td>\n",
       "      <td>1765</td>\n",
       "      <td>1765</td>\n",
       "    </tr>\n",
       "    <tr>\n",
       "      <th>2</th>\n",
       "      <td>1</td>\n",
       "      <td>train</td>\n",
       "      <td>1398</td>\n",
       "      <td>1398</td>\n",
       "      <td>1398</td>\n",
       "      <td>1398</td>\n",
       "      <td>1396</td>\n",
       "      <td>1398</td>\n",
       "      <td>1398</td>\n",
       "      <td>1398</td>\n",
       "      <td>1398</td>\n",
       "    </tr>\n",
       "  </tbody>\n",
       "</table>\n",
       "</div>"
      ],
      "text/plain": [
       "   cancerous    set  lesion_id  image_id    dx  dx_type   age   sex  \\\n",
       "0          0      0       4958      4958  4958     4958  4911  4958   \n",
       "1          1      0       1765      1765   556      556  1765  1415   \n",
       "2          1  train       1398      1398  1398     1398  1396  1398   \n",
       "\n",
       "   localization  duplicate  class  \n",
       "0          4958       4958   4958  \n",
       "1          1765       1765   1765  \n",
       "2          1398       1398   1398  "
      ]
     },
     "execution_count": 35,
     "metadata": {},
     "output_type": "execute_result"
    }
   ],
   "source": [
    "all_images.groupby(['cancerous', 'set'], as_index=False).count()"
   ]
  },
  {
   "cell_type": "code",
   "execution_count": 36,
   "id": "b2ae7f82-69cd-47bf-a876-4c180ef5bd6c",
   "metadata": {
    "tags": []
   },
   "outputs": [],
   "source": [
    "#Count how many random images from original (without augmented duplicates) set we need to add in order to put 75% of each class to train set. "
   ]
  },
  {
   "cell_type": "code",
   "execution_count": 37,
   "id": "e0a8ecc3-ac5a-4a91-b7bb-be21cf21bbbf",
   "metadata": {},
   "outputs": [],
   "source": [
    "import random"
   ]
  },
  {
   "cell_type": "code",
   "execution_count": 38,
   "id": "c53e5895-b9f4-425b-b67c-72cb3698bcea",
   "metadata": {
    "tags": []
   },
   "outputs": [],
   "source": [
    "#Get the list of images of the class that would supplement train set so that train set includes 75% of images of the class \n",
    "\n",
    "def get_train_supplement(cl):\n",
    "    \"\"\"\n",
    "    Creates the list of image_ids that or the class that would supplement training set for this class\n",
    "    \n",
    "    Input: class label from 0 to 5\n",
    "    Output: the list if image_ids from the class that will be added to the train set\n",
    "    \n",
    "    \"\"\"\n",
    "   \n",
    "    train_supplement=[]\n",
    "    #define how many images we need in order to complete the training set for the class to 75% of all class values\n",
    "    number=0.75*(all_images[all_images['cancerous']==cl].nunique()['image_id']) - all_images[(all_images['cancerous']==cl) & (all_images['set']=='train')].count()['image_id']\n",
    "    number=round(number)\n",
    "    if number>0:\n",
    "        #randomly choose the desired number of images from non duplicated subset od this class\n",
    "        a = all_images[(all_images['cancerous']==cl) & (all_images['set']==0)]['image_id'].tolist()\n",
    "        random.shuffle(a)\n",
    "        train_supplement=a[: number]\n",
    "        return  train_supplement, number\n",
    "    else:\n",
    "        return \"The trainig set for this class is already complete\", number\n",
    "    "
   ]
  },
  {
   "cell_type": "code",
   "execution_count": 39,
   "id": "ffa61cda-645e-47d6-be16-72afeb8af0e1",
   "metadata": {},
   "outputs": [],
   "source": [
    "#Get the lists of train set supplements for each class: (0=non_cancerous and 1=cancerous)\n",
    "train_supplement_class_0=get_train_supplement(0)\n",
    "train_supplement_class_1=get_train_supplement(1)\n"
   ]
  },
  {
   "cell_type": "code",
   "execution_count": 40,
   "id": "b5d9bc00-84eb-4558-89c7-c3431c59f370",
   "metadata": {
    "tags": []
   },
   "outputs": [
    {
     "name": "stdout",
     "output_type": "stream",
     "text": [
      "3718\n",
      "974\n"
     ]
    }
   ],
   "source": [
    "print(train_supplement_class_0[1])\n",
    "print(train_supplement_class_1[1])\n"
   ]
  },
  {
   "cell_type": "code",
   "execution_count": 41,
   "id": "48b3be73-605c-47ac-b37f-adb42351c0fc",
   "metadata": {},
   "outputs": [
    {
     "name": "stderr",
     "output_type": "stream",
     "text": [
      "<ipython-input-41-c16de717ad36>:4: SettingWithCopyWarning: \n",
      "A value is trying to be set on a copy of a slice from a DataFrame\n",
      "\n",
      "See the caveats in the documentation: https://pandas.pydata.org/pandas-docs/stable/user_guide/indexing.html#returning-a-view-versus-a-copy\n",
      "  all_images['set'][i]='train'\n",
      "<ipython-input-41-c16de717ad36>:6: SettingWithCopyWarning: \n",
      "A value is trying to be set on a copy of a slice from a DataFrame\n",
      "\n",
      "See the caveats in the documentation: https://pandas.pydata.org/pandas-docs/stable/user_guide/indexing.html#returning-a-view-versus-a-copy\n",
      "  all_images['set'][i]='train'\n"
     ]
    }
   ],
   "source": [
    "#Assign 'train' value to all image_id from the supplement lists\n",
    "for i in range(len(all_images['image_id'])):\n",
    "    if  (all_images['image_id'][i] in train_supplement_class_0[0])==True:\n",
    "            all_images['set'][i]='train' \n",
    "    if  (all_images['image_id'][i] in train_supplement_class_1[0])==True:\n",
    "            all_images['set'][i]='train'"
   ]
  },
  {
   "cell_type": "code",
   "execution_count": 42,
   "id": "862964a0-7e68-49d3-8902-ea7df7734fd7",
   "metadata": {},
   "outputs": [
    {
     "data": {
      "text/plain": [
       "6090"
      ]
     },
     "execution_count": 42,
     "metadata": {},
     "output_type": "execute_result"
    }
   ],
   "source": [
    "#Check the length of overal training set\n",
    "len(all_images[all_images['set']=='train'])"
   ]
  },
  {
   "cell_type": "code",
   "execution_count": 43,
   "id": "588ee5cf-c653-464a-954e-048421135e54",
   "metadata": {},
   "outputs": [],
   "source": [
    "#Create validation set (15% of all values) for each class\n",
    "def get_validation_list(cl):\n",
    "    \n",
    "    \"\"\"\n",
    "    Creates the list of image_ids that or the class that would supplement validation set for this class\n",
    "    \n",
    "    Input: class label from 0 to 5\n",
    "    Output: the list if image_ids from the class that will be added to the validation set\n",
    "    \n",
    "    \"\"\"\n",
    "    \n",
    "    validation_list=[]\n",
    "    #define how many images we need in order to complete the training set for the class to 75% of all class values\n",
    "    number=0.6*(all_images[(all_images['cancerous']==cl) & (all_images['set']==0)].count()['image_id'])\n",
    "    number=round(number)\n",
    "    if number>0:\n",
    "        #randomly choose the desired number of images from non duplicated subset od this class\n",
    "        a = all_images[(all_images['cancerous']==cl) & (all_images['set']==0)]['image_id'].tolist()\n",
    "        random.shuffle(a)\n",
    "        validation_list=a[: number]\n",
    "        return  validation_list, number\n",
    "    else:\n",
    "        return  \"Please check set=0 for this class\", number"
   ]
  },
  {
   "cell_type": "code",
   "execution_count": 44,
   "id": "852167ac-09a9-4bc0-8bde-89580ae63e34",
   "metadata": {},
   "outputs": [],
   "source": [
    "validation_class_0=get_validation_list(0)\n",
    "validation_class_1=get_validation_list(1)"
   ]
  },
  {
   "cell_type": "code",
   "execution_count": 45,
   "id": "c43835ee-6e5d-4465-a45f-205dc61a4083",
   "metadata": {},
   "outputs": [
    {
     "name": "stdout",
     "output_type": "stream",
     "text": [
      "744\n",
      "475\n"
     ]
    }
   ],
   "source": [
    "print(validation_class_0[1])\n",
    "print(validation_class_1[1])"
   ]
  },
  {
   "cell_type": "code",
   "execution_count": 46,
   "id": "0d822c48-10c4-4ff7-a2f8-74852bee9b14",
   "metadata": {},
   "outputs": [
    {
     "name": "stderr",
     "output_type": "stream",
     "text": [
      "<ipython-input-46-d5a737374164>:4: SettingWithCopyWarning: \n",
      "A value is trying to be set on a copy of a slice from a DataFrame\n",
      "\n",
      "See the caveats in the documentation: https://pandas.pydata.org/pandas-docs/stable/user_guide/indexing.html#returning-a-view-versus-a-copy\n",
      "  all_images['set'][i]='val'\n",
      "<ipython-input-46-d5a737374164>:6: SettingWithCopyWarning: \n",
      "A value is trying to be set on a copy of a slice from a DataFrame\n",
      "\n",
      "See the caveats in the documentation: https://pandas.pydata.org/pandas-docs/stable/user_guide/indexing.html#returning-a-view-versus-a-copy\n",
      "  all_images['set'][i]='val'\n"
     ]
    }
   ],
   "source": [
    "#Assign 'val' value to all image_id from the validation lists\n",
    "for i in range(len(all_images['image_id'])):\n",
    "    if  (all_images['image_id'][i] in validation_class_0[0])==True:\n",
    "            all_images['set'][i]='val' \n",
    "    if  (all_images['image_id'][i] in validation_class_1[0])==True:\n",
    "            all_images['set'][i]='val'"
   ]
  },
  {
   "cell_type": "code",
   "execution_count": 47,
   "id": "ebf4ca7a-14fd-4999-b538-06c7cf744251",
   "metadata": {},
   "outputs": [],
   "source": [
    "#Assign set='test' to all remaining images \n",
    "all_images['set']=all_images['set'].replace(0, 'test')"
   ]
  },
  {
   "cell_type": "code",
   "execution_count": 48,
   "id": "7a7e6309-1581-4a7f-b70f-42c2837a55e0",
   "metadata": {},
   "outputs": [
    {
     "data": {
      "text/html": [
       "<div>\n",
       "<style scoped>\n",
       "    .dataframe tbody tr th:only-of-type {\n",
       "        vertical-align: middle;\n",
       "    }\n",
       "\n",
       "    .dataframe tbody tr th {\n",
       "        vertical-align: top;\n",
       "    }\n",
       "\n",
       "    .dataframe thead th {\n",
       "        text-align: right;\n",
       "    }\n",
       "</style>\n",
       "<table border=\"1\" class=\"dataframe\">\n",
       "  <thead>\n",
       "    <tr style=\"text-align: right;\">\n",
       "      <th></th>\n",
       "      <th>set</th>\n",
       "      <th>lesion_id</th>\n",
       "      <th>image_id</th>\n",
       "      <th>dx</th>\n",
       "      <th>dx_type</th>\n",
       "      <th>age</th>\n",
       "      <th>sex</th>\n",
       "      <th>localization</th>\n",
       "      <th>duplicate</th>\n",
       "      <th>class</th>\n",
       "      <th>cancerous</th>\n",
       "    </tr>\n",
       "  </thead>\n",
       "  <tbody>\n",
       "    <tr>\n",
       "      <th>0</th>\n",
       "      <td>test</td>\n",
       "      <td>812</td>\n",
       "      <td>812</td>\n",
       "      <td>587</td>\n",
       "      <td>587</td>\n",
       "      <td>807</td>\n",
       "      <td>743</td>\n",
       "      <td>812</td>\n",
       "      <td>812</td>\n",
       "      <td>812</td>\n",
       "      <td>812</td>\n",
       "    </tr>\n",
       "    <tr>\n",
       "      <th>1</th>\n",
       "      <td>train</td>\n",
       "      <td>6090</td>\n",
       "      <td>6090</td>\n",
       "      <td>5436</td>\n",
       "      <td>5436</td>\n",
       "      <td>6054</td>\n",
       "      <td>5907</td>\n",
       "      <td>6090</td>\n",
       "      <td>6090</td>\n",
       "      <td>6090</td>\n",
       "      <td>6090</td>\n",
       "    </tr>\n",
       "    <tr>\n",
       "      <th>2</th>\n",
       "      <td>val</td>\n",
       "      <td>1219</td>\n",
       "      <td>1219</td>\n",
       "      <td>889</td>\n",
       "      <td>889</td>\n",
       "      <td>1211</td>\n",
       "      <td>1121</td>\n",
       "      <td>1219</td>\n",
       "      <td>1219</td>\n",
       "      <td>1219</td>\n",
       "      <td>1219</td>\n",
       "    </tr>\n",
       "  </tbody>\n",
       "</table>\n",
       "</div>"
      ],
      "text/plain": [
       "     set  lesion_id  image_id    dx  dx_type   age   sex  localization  \\\n",
       "0   test        812       812   587      587   807   743           812   \n",
       "1  train       6090      6090  5436     5436  6054  5907          6090   \n",
       "2    val       1219      1219   889      889  1211  1121          1219   \n",
       "\n",
       "   duplicate  class  cancerous  \n",
       "0        812    812        812  \n",
       "1       6090   6090       6090  \n",
       "2       1219   1219       1219  "
      ]
     },
     "execution_count": 48,
     "metadata": {},
     "output_type": "execute_result"
    }
   ],
   "source": [
    "#Now we have all images put into train (75%), val(15%), test (10%) sets with stratification by class.\n",
    "all_images.groupby(['set'], as_index=False).count()"
   ]
  },
  {
   "cell_type": "code",
   "execution_count": 45,
   "id": "44a0ad26-f3bb-4262-84ce-023b4abf640e",
   "metadata": {},
   "outputs": [],
   "source": [
    "#Save the dataframe to csv\n",
    "all_images.to_csv('2classes_df.csv', index=False)"
   ]
  },
  {
   "cell_type": "code",
   "execution_count": 46,
   "id": "c618e24c-4e21-4199-8b71-5f2aca328700",
   "metadata": {},
   "outputs": [],
   "source": []
  },
  {
   "cell_type": "code",
   "execution_count": null,
   "id": "378a51f6-7a21-40f0-9b0a-326738f030c8",
   "metadata": {},
   "outputs": [],
   "source": []
  },
  {
   "cell_type": "code",
   "execution_count": null,
   "id": "e5972b6f-1414-45a9-98e1-4b87047c8ada",
   "metadata": {},
   "outputs": [],
   "source": []
  }
 ],
 "metadata": {
  "kernelspec": {
   "display_name": "Python 3",
   "language": "python",
   "name": "python3"
  },
  "language_info": {
   "codemirror_mode": {
    "name": "ipython",
    "version": 3
   },
   "file_extension": ".py",
   "mimetype": "text/x-python",
   "name": "python",
   "nbconvert_exporter": "python",
   "pygments_lexer": "ipython3",
   "version": "3.8.11"
  }
 },
 "nbformat": 4,
 "nbformat_minor": 5
}
